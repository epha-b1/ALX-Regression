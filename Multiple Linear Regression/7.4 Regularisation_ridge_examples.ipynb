{
 "cells": [
  {
   "cell_type": "markdown",
   "metadata": {},
   "source": [
    "<div align=\"center\" style=\" font-size: 80%; text-align: center; margin: 0 auto\">\n",
    "<img src=\"https://raw.githubusercontent.com/Explore-AI/Pictures/master/Python-Notebook-Banners/Examples.png\"  style=\"display: block; margin-left: auto; margin-right: auto;\";/>\n",
    "</div>"
   ]
  },
  {
   "cell_type": "markdown",
   "id": "f662d169",
   "metadata": {},
   "source": [
    "# Examples: Regularisation – ridge\n",
    "© ExploreAI Academy"
   ]
  },
  {
   "cell_type": "markdown",
   "id": "26af890c",
   "metadata": {},
   "source": [
    "In this notebook, we'll take an in-depth look at regularisation and its implementation using the ridge regression method."
   ]
  },
  {
   "cell_type": "markdown",
   "id": "2d230d14",
   "metadata": {
    "tags": []
   },
   "source": [
    "## Learning objectives\n",
    "\n",
    "By the end of this train, you should be able to:\n",
    "- Understand what regularisation is and how to implement it using the ridge method.\n",
    "- Understand the code required to implement a ridge regression model."
   ]
  },
  {
   "cell_type": "markdown",
   "id": "598990ff",
   "metadata": {},
   "source": [
    "## Regularisation in 5 minutes\n",
    "\n",
    "Regularisation is like having a magic wand to make our predictions better in a smarter way. \n",
    "\n",
    "Imagine we're baking a cake and we have a bunch of ingredients. Each ingredient (like flour, eggs, sugar) affects how the cake turns out. Similarly, in making predictions, we have different factors, or \"ingredients\", that affect our predictions.\n",
    "\n",
    "Now, think of each ingredient as having its own importance level. For instance, in baking, maybe we need more flour than sugar. Similarly, in predicting, some factors might be more important than others.\n",
    "\n",
    "In the past, we used to pick and choose which ingredients to use in our recipes. But with regularisation, we keep all the ingredients but adjust their amounts based on how important they are."
   ]
  },
  {
   "cell_type": "markdown",
   "id": "4434a2f4",
   "metadata": {},
   "source": [
    "Let's take a look at our recipe, or equation, for making predictions:\n",
    "\n",
    "$$RSS = \\sum_{i=1}^n(y_i-(a+\\sum_{j=1}^pb_jx_{ij}))^2$$\n",
    "\n",
    "This might look like a complicated recipe, but it's just a way of saying, \"Let's see how well our predictions match up with reality.\"\n",
    "\n",
    "Now, here's the cool part. Regularisation adds a little twist to our recipe. It says, \"Hey, let's not let any ingredient (or factor) get too big.\" Why? Because when one ingredient becomes too dominant, it can mess up the taste of our cake (or the accuracy of our predictions).\n",
    "\n",
    "So, we add a new rule to our recipe:\n",
    "\n",
    "$$\\sum_{i=1}^n(y_i-(a+\\sum_{j=1}^pb_jx_{ij}))^2 + \\alpha\\sum_{j=1}^pb_j^2$$"
   ]
  },
  {
   "cell_type": "markdown",
   "id": "17003302",
   "metadata": {},
   "source": [
    "The new part, $\\alpha\\sum_{j=1}^pb_j^2$, is like a secret sauce that helps us control the quantities of our ingredients. The $\\alpha$ is like a knob we can turn to decide how much we want to control the sizes.\n",
    "\n",
    "Imagine $\\alpha$ as the volume control on your music player. If you turn it up, it makes the ingredients smaller. If you turn it down, it lets them be bigger.\n",
    "\n",
    "This secret sauce helps us balance two things: making sure our predictions fit the real data well, but also making sure none of our ingredients (or factors) become too overwhelming.\n",
    "\n",
    "![tradeoff](https://raw.githubusercontent.com/Explore-AI/Pictures/master/tradeoff.png)"
   ]
  },
  {
   "cell_type": "markdown",
   "id": "c3b908e7",
   "metadata": {},
   "source": [
    "## Getting started\n",
    "\n",
    "To begin, let's import a few Python libraries."
   ]
  },
  {
   "cell_type": "code",
   "execution_count": 1,
   "id": "2478b6df",
   "metadata": {},
   "outputs": [],
   "source": [
    "import numpy as np\n",
    "import pandas as pd\n",
    "import matplotlib.pyplot as plt\n",
    "import seaborn as sns"
   ]
  },
  {
   "cell_type": "markdown",
   "id": "c55f3adc",
   "metadata": {},
   "source": [
    "Next we'll load our data as a Pandas DataFrame."
   ]
  },
  {
   "cell_type": "code",
   "execution_count": 2,
   "metadata": {},
   "outputs": [
    {
     "data": {
      "text/html": [
       "<div>\n",
       "<style scoped>\n",
       "    .dataframe tbody tr th:only-of-type {\n",
       "        vertical-align: middle;\n",
       "    }\n",
       "\n",
       "    .dataframe tbody tr th {\n",
       "        vertical-align: top;\n",
       "    }\n",
       "\n",
       "    .dataframe thead th {\n",
       "        text-align: right;\n",
       "    }\n",
       "</style>\n",
       "<table border=\"1\" class=\"dataframe\">\n",
       "  <thead>\n",
       "    <tr style=\"text-align: right;\">\n",
       "      <th></th>\n",
       "      <th>WaterQualityIndex</th>\n",
       "      <th>ClimateChangeImpactScore</th>\n",
       "      <th>LandUseChange</th>\n",
       "      <th>InvasiveSpeciesCount</th>\n",
       "      <th>ConservationFunding</th>\n",
       "      <th>EcoTourismImpact</th>\n",
       "      <th>ForestCoverChange</th>\n",
       "      <th>SoilQualityIndex</th>\n",
       "      <th>WaterUsage</th>\n",
       "      <th>RenewableEnergyUsage</th>\n",
       "      <th>CarbonEmissionLevels</th>\n",
       "      <th>AgriculturalIntensity</th>\n",
       "      <th>HabitatConnectivity</th>\n",
       "      <th>SpeciesReintroductionEfforts</th>\n",
       "      <th>PollinatorDiversity</th>\n",
       "      <th>BiodiversityHealthIndex</th>\n",
       "    </tr>\n",
       "    <tr>\n",
       "      <th>Year</th>\n",
       "      <th></th>\n",
       "      <th></th>\n",
       "      <th></th>\n",
       "      <th></th>\n",
       "      <th></th>\n",
       "      <th></th>\n",
       "      <th></th>\n",
       "      <th></th>\n",
       "      <th></th>\n",
       "      <th></th>\n",
       "      <th></th>\n",
       "      <th></th>\n",
       "      <th></th>\n",
       "      <th></th>\n",
       "      <th></th>\n",
       "      <th></th>\n",
       "    </tr>\n",
       "  </thead>\n",
       "  <tbody>\n",
       "    <tr>\n",
       "      <th>2010</th>\n",
       "      <td>35</td>\n",
       "      <td>7.542535</td>\n",
       "      <td>6.630073</td>\n",
       "      <td>39</td>\n",
       "      <td>46</td>\n",
       "      <td>1.193810</td>\n",
       "      <td>0.032204</td>\n",
       "      <td>70</td>\n",
       "      <td>33</td>\n",
       "      <td>13</td>\n",
       "      <td>22</td>\n",
       "      <td>1.419332</td>\n",
       "      <td>1.671324</td>\n",
       "      <td>9.311312</td>\n",
       "      <td>0.270434</td>\n",
       "      <td>0.194332</td>\n",
       "    </tr>\n",
       "    <tr>\n",
       "      <th>2010</th>\n",
       "      <td>13</td>\n",
       "      <td>1.617642</td>\n",
       "      <td>6.477132</td>\n",
       "      <td>45</td>\n",
       "      <td>18</td>\n",
       "      <td>8.484718</td>\n",
       "      <td>-4.803485</td>\n",
       "      <td>69</td>\n",
       "      <td>67</td>\n",
       "      <td>57</td>\n",
       "      <td>63</td>\n",
       "      <td>3.048794</td>\n",
       "      <td>5.815305</td>\n",
       "      <td>4.698086</td>\n",
       "      <td>0.729916</td>\n",
       "      <td>0.525779</td>\n",
       "    </tr>\n",
       "    <tr>\n",
       "      <th>2010</th>\n",
       "      <td>10</td>\n",
       "      <td>0.904817</td>\n",
       "      <td>9.069428</td>\n",
       "      <td>28</td>\n",
       "      <td>59</td>\n",
       "      <td>3.412444</td>\n",
       "      <td>-2.563852</td>\n",
       "      <td>72</td>\n",
       "      <td>85</td>\n",
       "      <td>37</td>\n",
       "      <td>46</td>\n",
       "      <td>7.863218</td>\n",
       "      <td>9.543694</td>\n",
       "      <td>2.080495</td>\n",
       "      <td>0.068508</td>\n",
       "      <td>0.684795</td>\n",
       "    </tr>\n",
       "    <tr>\n",
       "      <th>2010</th>\n",
       "      <td>36</td>\n",
       "      <td>7.060190</td>\n",
       "      <td>7.061932</td>\n",
       "      <td>37</td>\n",
       "      <td>88</td>\n",
       "      <td>9.718453</td>\n",
       "      <td>3.425382</td>\n",
       "      <td>64</td>\n",
       "      <td>85</td>\n",
       "      <td>96</td>\n",
       "      <td>60</td>\n",
       "      <td>1.065595</td>\n",
       "      <td>4.938359</td>\n",
       "      <td>2.192657</td>\n",
       "      <td>0.145065</td>\n",
       "      <td>0.926146</td>\n",
       "    </tr>\n",
       "    <tr>\n",
       "      <th>2010</th>\n",
       "      <td>24</td>\n",
       "      <td>8.439246</td>\n",
       "      <td>4.504786</td>\n",
       "      <td>41</td>\n",
       "      <td>88</td>\n",
       "      <td>9.118186</td>\n",
       "      <td>-1.295086</td>\n",
       "      <td>12</td>\n",
       "      <td>0</td>\n",
       "      <td>85</td>\n",
       "      <td>61</td>\n",
       "      <td>9.785784</td>\n",
       "      <td>2.114002</td>\n",
       "      <td>7.405189</td>\n",
       "      <td>0.809798</td>\n",
       "      <td>0.126345</td>\n",
       "    </tr>\n",
       "  </tbody>\n",
       "</table>\n",
       "</div>"
      ],
      "text/plain": [
       "      WaterQualityIndex  ClimateChangeImpactScore  LandUseChange  \\\n",
       "Year                                                               \n",
       "2010                 35                  7.542535       6.630073   \n",
       "2010                 13                  1.617642       6.477132   \n",
       "2010                 10                  0.904817       9.069428   \n",
       "2010                 36                  7.060190       7.061932   \n",
       "2010                 24                  8.439246       4.504786   \n",
       "\n",
       "      InvasiveSpeciesCount  ConservationFunding  EcoTourismImpact  \\\n",
       "Year                                                                \n",
       "2010                    39                   46          1.193810   \n",
       "2010                    45                   18          8.484718   \n",
       "2010                    28                   59          3.412444   \n",
       "2010                    37                   88          9.718453   \n",
       "2010                    41                   88          9.118186   \n",
       "\n",
       "      ForestCoverChange  SoilQualityIndex  WaterUsage  RenewableEnergyUsage  \\\n",
       "Year                                                                          \n",
       "2010           0.032204                70          33                    13   \n",
       "2010          -4.803485                69          67                    57   \n",
       "2010          -2.563852                72          85                    37   \n",
       "2010           3.425382                64          85                    96   \n",
       "2010          -1.295086                12           0                    85   \n",
       "\n",
       "      CarbonEmissionLevels  AgriculturalIntensity  HabitatConnectivity  \\\n",
       "Year                                                                     \n",
       "2010                    22               1.419332             1.671324   \n",
       "2010                    63               3.048794             5.815305   \n",
       "2010                    46               7.863218             9.543694   \n",
       "2010                    60               1.065595             4.938359   \n",
       "2010                    61               9.785784             2.114002   \n",
       "\n",
       "      SpeciesReintroductionEfforts  PollinatorDiversity  \\\n",
       "Year                                                      \n",
       "2010                      9.311312             0.270434   \n",
       "2010                      4.698086             0.729916   \n",
       "2010                      2.080495             0.068508   \n",
       "2010                      2.192657             0.145065   \n",
       "2010                      7.405189             0.809798   \n",
       "\n",
       "      BiodiversityHealthIndex  \n",
       "Year                           \n",
       "2010                 0.194332  \n",
       "2010                 0.525779  \n",
       "2010                 0.684795  \n",
       "2010                 0.926146  \n",
       "2010                 0.126345  "
      ]
     },
     "execution_count": 2,
     "metadata": {},
     "output_type": "execute_result"
    }
   ],
   "source": [
    "df = pd.read_csv('https://raw.githubusercontent.com/Explore-AI/Public-Data/master/SDG_15_Life_on_Land_Dataset.csv', index_col=0)\n",
    "df.head()"
   ]
  },
  {
   "cell_type": "markdown",
   "id": "ad390acf",
   "metadata": {},
   "source": [
    "We can take a look at the dimensions of the DataFrame to get an idea of the number of rows, _n_, and the number of predictors, _p_, which is equal to one less than the number of columns."
   ]
  },
  {
   "cell_type": "code",
   "execution_count": 3,
   "id": "b8afc379",
   "metadata": {},
   "outputs": [
    {
     "data": {
      "text/plain": [
       "(1000, 16)"
      ]
     },
     "execution_count": 3,
     "metadata": {},
     "output_type": "execute_result"
    }
   ],
   "source": [
    "df.shape"
   ]
  },
  {
   "cell_type": "markdown",
   "id": "10997afb",
   "metadata": {},
   "source": [
    "Our dataset contains various environmental indicators related to SDG 15, such as deforestation rates, protected area coverage, biodiversity indices, and other relevant variables. Our objective is to model an environmental outcome for  the health of biodiversity using these indicators. \n",
    "\n",
    "The mathematical representation of our model can be described as follows:\n",
    "\n",
    "$$Y = \\beta_0 + \\beta_1X_1 + \\beta_2X_2 + ... + \\beta_pX_p$$\n",
    "\n",
    "In this formulation, $Y$ represents the response variable, which in our case is `BiodiversityHealthIndex`. This response variable is influenced by _p_ predictor variables ($X_1, X_2, ..., X_p$), each representing different environmental indicators relevant to SDG 15."
   ]
  },
  {
   "cell_type": "markdown",
   "id": "f6575333",
   "metadata": {},
   "source": [
    "### Review of data scaling\n",
    "\n",
    "Data scaling is a key step when preparing our data for a model, especially when using techniques like regularisation. Regularisation helps improve our model by not letting it rely too much on any single feature, and it does this by keeping the model's coefficients (essentially, the importance it assigns to each feature) in check. But here's the catch: the size of these coefficients can be influenced by two main things:\n",
    "\n",
    "1. **How strongly a feature (let's call it `x`) is connected to the outcome (or `y`)**. This is the kind of relationship we're interested in capturing because it tells us something meaningful about our data.\n",
    "2. **The scale of the feature values**. For instance, imagine we're measuring distance. If we switch from metres to kilometres, the numbers change drastically, even though we're talking about the same distances. This change can unfairly affect the size of the coefficients.\n",
    "\n",
    "We want our model to focus on the real relationships in the data, not get thrown off by how we happen to measure things. That's where data scaling comes in. It adjusts the features so they're on a similar scale, making it easier for our regularisation technique to do its job properly.\n",
    "\n",
    "A popular method for scaling is called **Z-score standardisation**. It tweaks our data so that the features have similar ranges, and it's smart enough to handle outliers (data points that are very different from the rest) gracefully. Let's put this into action by using standard scaling in our model.\n",
    "\n",
    "To do this, we'll use something called `StandardScaler()` from a library in Python known as `sklearn.preprocessing`. "
   ]
  },
  {
   "cell_type": "code",
   "execution_count": 4,
   "id": "c85a7c00",
   "metadata": {},
   "outputs": [],
   "source": [
    "# Split data into predictors and response\n",
    "X = df.drop('BiodiversityHealthIndex', axis=1)\n",
    "y = df['BiodiversityHealthIndex']"
   ]
  },
  {
   "cell_type": "code",
   "execution_count": 5,
   "id": "07175784",
   "metadata": {},
   "outputs": [],
   "source": [
    "# Import scaler method from sklearn\n",
    "from sklearn.preprocessing import StandardScaler"
   ]
  },
  {
   "cell_type": "code",
   "execution_count": 6,
   "id": "ce241b8d",
   "metadata": {},
   "outputs": [],
   "source": [
    "# Create scaler object\n",
    "scaler = StandardScaler()"
   ]
  },
  {
   "cell_type": "code",
   "execution_count": 7,
   "id": "b2aa3fb3",
   "metadata": {},
   "outputs": [],
   "source": [
    "# Create scaled version of the predictors (there is no need to scale the response)\n",
    "X_scaled = scaler.fit_transform(X)"
   ]
  },
  {
   "cell_type": "code",
   "execution_count": 8,
   "id": "19b7c30b",
   "metadata": {},
   "outputs": [
    {
     "data": {
      "text/html": [
       "<div>\n",
       "<style scoped>\n",
       "    .dataframe tbody tr th:only-of-type {\n",
       "        vertical-align: middle;\n",
       "    }\n",
       "\n",
       "    .dataframe tbody tr th {\n",
       "        vertical-align: top;\n",
       "    }\n",
       "\n",
       "    .dataframe thead th {\n",
       "        text-align: right;\n",
       "    }\n",
       "</style>\n",
       "<table border=\"1\" class=\"dataframe\">\n",
       "  <thead>\n",
       "    <tr style=\"text-align: right;\">\n",
       "      <th></th>\n",
       "      <th>WaterQualityIndex</th>\n",
       "      <th>ClimateChangeImpactScore</th>\n",
       "      <th>LandUseChange</th>\n",
       "      <th>InvasiveSpeciesCount</th>\n",
       "      <th>ConservationFunding</th>\n",
       "      <th>EcoTourismImpact</th>\n",
       "      <th>ForestCoverChange</th>\n",
       "      <th>SoilQualityIndex</th>\n",
       "      <th>WaterUsage</th>\n",
       "      <th>RenewableEnergyUsage</th>\n",
       "      <th>CarbonEmissionLevels</th>\n",
       "      <th>AgriculturalIntensity</th>\n",
       "      <th>HabitatConnectivity</th>\n",
       "      <th>SpeciesReintroductionEfforts</th>\n",
       "      <th>PollinatorDiversity</th>\n",
       "    </tr>\n",
       "  </thead>\n",
       "  <tbody>\n",
       "    <tr>\n",
       "      <th>0</th>\n",
       "      <td>-0.509823</td>\n",
       "      <td>0.915895</td>\n",
       "      <td>0.532798</td>\n",
       "      <td>0.967295</td>\n",
       "      <td>-0.129430</td>\n",
       "      <td>-1.297085</td>\n",
       "      <td>0.017923</td>\n",
       "      <td>0.689812</td>\n",
       "      <td>-0.641157</td>\n",
       "      <td>-1.290990</td>\n",
       "      <td>-0.930835</td>\n",
       "      <td>-1.237558</td>\n",
       "      <td>-1.131411</td>\n",
       "      <td>1.494660</td>\n",
       "      <td>-0.811078</td>\n",
       "    </tr>\n",
       "    <tr>\n",
       "      <th>1</th>\n",
       "      <td>-1.261473</td>\n",
       "      <td>-1.159761</td>\n",
       "      <td>0.479063</td>\n",
       "      <td>1.382383</td>\n",
       "      <td>-1.098165</td>\n",
       "      <td>1.226669</td>\n",
       "      <td>-1.649745</td>\n",
       "      <td>0.655167</td>\n",
       "      <td>0.539995</td>\n",
       "      <td>0.207271</td>\n",
       "      <td>0.470716</td>\n",
       "      <td>-0.670150</td>\n",
       "      <td>0.305779</td>\n",
       "      <td>-0.107952</td>\n",
       "      <td>0.797582</td>\n",
       "    </tr>\n",
       "    <tr>\n",
       "      <th>2</th>\n",
       "      <td>-1.363971</td>\n",
       "      <td>-1.409483</td>\n",
       "      <td>1.389846</td>\n",
       "      <td>0.206299</td>\n",
       "      <td>0.320340</td>\n",
       "      <td>-0.529103</td>\n",
       "      <td>-0.877370</td>\n",
       "      <td>0.759101</td>\n",
       "      <td>1.165311</td>\n",
       "      <td>-0.473757</td>\n",
       "      <td>-0.110415</td>\n",
       "      <td>1.006319</td>\n",
       "      <td>1.598836</td>\n",
       "      <td>-1.017291</td>\n",
       "      <td>-1.518029</td>\n",
       "    </tr>\n",
       "    <tr>\n",
       "      <th>3</th>\n",
       "      <td>-0.475658</td>\n",
       "      <td>0.746916</td>\n",
       "      <td>0.684528</td>\n",
       "      <td>0.828932</td>\n",
       "      <td>1.323673</td>\n",
       "      <td>1.653728</td>\n",
       "      <td>1.188117</td>\n",
       "      <td>0.481943</td>\n",
       "      <td>1.165311</td>\n",
       "      <td>1.535274</td>\n",
       "      <td>0.368164</td>\n",
       "      <td>-1.360736</td>\n",
       "      <td>0.001642</td>\n",
       "      <td>-0.978326</td>\n",
       "      <td>-1.249998</td>\n",
       "    </tr>\n",
       "    <tr>\n",
       "      <th>4</th>\n",
       "      <td>-0.885648</td>\n",
       "      <td>1.230038</td>\n",
       "      <td>-0.213905</td>\n",
       "      <td>1.105658</td>\n",
       "      <td>1.323673</td>\n",
       "      <td>1.445945</td>\n",
       "      <td>-0.439815</td>\n",
       "      <td>-1.319584</td>\n",
       "      <td>-1.787570</td>\n",
       "      <td>1.160709</td>\n",
       "      <td>0.402348</td>\n",
       "      <td>1.675792</td>\n",
       "      <td>-0.977884</td>\n",
       "      <td>0.832482</td>\n",
       "      <td>1.077254</td>\n",
       "    </tr>\n",
       "  </tbody>\n",
       "</table>\n",
       "</div>"
      ],
      "text/plain": [
       "   WaterQualityIndex  ClimateChangeImpactScore  LandUseChange  \\\n",
       "0          -0.509823                  0.915895       0.532798   \n",
       "1          -1.261473                 -1.159761       0.479063   \n",
       "2          -1.363971                 -1.409483       1.389846   \n",
       "3          -0.475658                  0.746916       0.684528   \n",
       "4          -0.885648                  1.230038      -0.213905   \n",
       "\n",
       "   InvasiveSpeciesCount  ConservationFunding  EcoTourismImpact  \\\n",
       "0              0.967295            -0.129430         -1.297085   \n",
       "1              1.382383            -1.098165          1.226669   \n",
       "2              0.206299             0.320340         -0.529103   \n",
       "3              0.828932             1.323673          1.653728   \n",
       "4              1.105658             1.323673          1.445945   \n",
       "\n",
       "   ForestCoverChange  SoilQualityIndex  WaterUsage  RenewableEnergyUsage  \\\n",
       "0           0.017923          0.689812   -0.641157             -1.290990   \n",
       "1          -1.649745          0.655167    0.539995              0.207271   \n",
       "2          -0.877370          0.759101    1.165311             -0.473757   \n",
       "3           1.188117          0.481943    1.165311              1.535274   \n",
       "4          -0.439815         -1.319584   -1.787570              1.160709   \n",
       "\n",
       "   CarbonEmissionLevels  AgriculturalIntensity  HabitatConnectivity  \\\n",
       "0             -0.930835              -1.237558            -1.131411   \n",
       "1              0.470716              -0.670150             0.305779   \n",
       "2             -0.110415               1.006319             1.598836   \n",
       "3              0.368164              -1.360736             0.001642   \n",
       "4              0.402348               1.675792            -0.977884   \n",
       "\n",
       "   SpeciesReintroductionEfforts  PollinatorDiversity  \n",
       "0                      1.494660            -0.811078  \n",
       "1                     -0.107952             0.797582  \n",
       "2                     -1.017291            -1.518029  \n",
       "3                     -0.978326            -1.249998  \n",
       "4                      0.832482             1.077254  "
      ]
     },
     "execution_count": 8,
     "metadata": {},
     "output_type": "execute_result"
    }
   ],
   "source": [
    "# Convert the scaled predictor values into a DataFrame\n",
    "X_standardised = pd.DataFrame(X_scaled, columns=X.columns)\n",
    "X_standardised.head()"
   ]
  },
  {
   "cell_type": "markdown",
   "id": "770b0fe0",
   "metadata": {},
   "source": [
    "## Ridge regression\n",
    "\n",
    "For our analysis, we'll start by dividing our dataset into a training set and a testing set. Unlike time-series data where the chronological order is crucial, our dataset consists of independent observations related to various environmental factors. Therefore, we can randomly sample rows for the training and testing sets without worrying about their order.\n",
    "\n",
    "After splitting our dataset, we'll proceed to fit and evaluate our model. Initially, we'll create a `Ridge()` object using the default parameter settings, which means we'll start with an $\\\\alpha$ value of 1. This alpha parameter controls the strength of the regularisation applied to our model, with higher values leading to more significant regularisation. In a later tutorial, we'll learn about choosing a better value for this hyperparameter."
   ]
  },
  {
   "cell_type": "code",
   "execution_count": 9,
   "id": "0e401276",
   "metadata": {},
   "outputs": [],
   "source": [
    "# Import train/test splitting function from sklearn\n",
    "from sklearn.model_selection import train_test_split"
   ]
  },
  {
   "cell_type": "code",
   "execution_count": 10,
   "id": "ba845999",
   "metadata": {},
   "outputs": [],
   "source": [
    "# Split the data into train and test, being sure to use the standardised predictors\n",
    "X_train, X_test, y_train, y_test = train_test_split(X_standardised, \n",
    "                                                    y, \n",
    "                                                    test_size=0.2, \n",
    "                                                    shuffle=True)"
   ]
  },
  {
   "cell_type": "code",
   "execution_count": 11,
   "id": "a8d6c406",
   "metadata": {},
   "outputs": [],
   "source": [
    "# Import the ridge regression module from sklearn\n",
    "from sklearn.linear_model import Ridge"
   ]
  },
  {
   "cell_type": "code",
   "execution_count": 12,
   "id": "da14d5b4",
   "metadata": {},
   "outputs": [],
   "source": [
    "# Create ridge model with alpha = 1\n",
    "ridge = Ridge(alpha=1)"
   ]
  },
  {
   "cell_type": "code",
   "execution_count": 13,
   "id": "778ce8f2",
   "metadata": {},
   "outputs": [
    {
     "data": {
      "text/html": [
       "<style>#sk-container-id-1 {color: black;background-color: white;}#sk-container-id-1 pre{padding: 0;}#sk-container-id-1 div.sk-toggleable {background-color: white;}#sk-container-id-1 label.sk-toggleable__label {cursor: pointer;display: block;width: 100%;margin-bottom: 0;padding: 0.3em;box-sizing: border-box;text-align: center;}#sk-container-id-1 label.sk-toggleable__label-arrow:before {content: \"▸\";float: left;margin-right: 0.25em;color: #696969;}#sk-container-id-1 label.sk-toggleable__label-arrow:hover:before {color: black;}#sk-container-id-1 div.sk-estimator:hover label.sk-toggleable__label-arrow:before {color: black;}#sk-container-id-1 div.sk-toggleable__content {max-height: 0;max-width: 0;overflow: hidden;text-align: left;background-color: #f0f8ff;}#sk-container-id-1 div.sk-toggleable__content pre {margin: 0.2em;color: black;border-radius: 0.25em;background-color: #f0f8ff;}#sk-container-id-1 input.sk-toggleable__control:checked~div.sk-toggleable__content {max-height: 200px;max-width: 100%;overflow: auto;}#sk-container-id-1 input.sk-toggleable__control:checked~label.sk-toggleable__label-arrow:before {content: \"▾\";}#sk-container-id-1 div.sk-estimator input.sk-toggleable__control:checked~label.sk-toggleable__label {background-color: #d4ebff;}#sk-container-id-1 div.sk-label input.sk-toggleable__control:checked~label.sk-toggleable__label {background-color: #d4ebff;}#sk-container-id-1 input.sk-hidden--visually {border: 0;clip: rect(1px 1px 1px 1px);clip: rect(1px, 1px, 1px, 1px);height: 1px;margin: -1px;overflow: hidden;padding: 0;position: absolute;width: 1px;}#sk-container-id-1 div.sk-estimator {font-family: monospace;background-color: #f0f8ff;border: 1px dotted black;border-radius: 0.25em;box-sizing: border-box;margin-bottom: 0.5em;}#sk-container-id-1 div.sk-estimator:hover {background-color: #d4ebff;}#sk-container-id-1 div.sk-parallel-item::after {content: \"\";width: 100%;border-bottom: 1px solid gray;flex-grow: 1;}#sk-container-id-1 div.sk-label:hover label.sk-toggleable__label {background-color: #d4ebff;}#sk-container-id-1 div.sk-serial::before {content: \"\";position: absolute;border-left: 1px solid gray;box-sizing: border-box;top: 0;bottom: 0;left: 50%;z-index: 0;}#sk-container-id-1 div.sk-serial {display: flex;flex-direction: column;align-items: center;background-color: white;padding-right: 0.2em;padding-left: 0.2em;position: relative;}#sk-container-id-1 div.sk-item {position: relative;z-index: 1;}#sk-container-id-1 div.sk-parallel {display: flex;align-items: stretch;justify-content: center;background-color: white;position: relative;}#sk-container-id-1 div.sk-item::before, #sk-container-id-1 div.sk-parallel-item::before {content: \"\";position: absolute;border-left: 1px solid gray;box-sizing: border-box;top: 0;bottom: 0;left: 50%;z-index: -1;}#sk-container-id-1 div.sk-parallel-item {display: flex;flex-direction: column;z-index: 1;position: relative;background-color: white;}#sk-container-id-1 div.sk-parallel-item:first-child::after {align-self: flex-end;width: 50%;}#sk-container-id-1 div.sk-parallel-item:last-child::after {align-self: flex-start;width: 50%;}#sk-container-id-1 div.sk-parallel-item:only-child::after {width: 0;}#sk-container-id-1 div.sk-dashed-wrapped {border: 1px dashed gray;margin: 0 0.4em 0.5em 0.4em;box-sizing: border-box;padding-bottom: 0.4em;background-color: white;}#sk-container-id-1 div.sk-label label {font-family: monospace;font-weight: bold;display: inline-block;line-height: 1.2em;}#sk-container-id-1 div.sk-label-container {text-align: center;}#sk-container-id-1 div.sk-container {/* jupyter's `normalize.less` sets `[hidden] { display: none; }` but bootstrap.min.css set `[hidden] { display: none !important; }` so we also need the `!important` here to be able to override the default hidden behavior on the sphinx rendered scikit-learn.org. See: https://github.com/scikit-learn/scikit-learn/issues/21755 */display: inline-block !important;position: relative;}#sk-container-id-1 div.sk-text-repr-fallback {display: none;}</style><div id=\"sk-container-id-1\" class=\"sk-top-container\"><div class=\"sk-text-repr-fallback\"><pre>Ridge(alpha=1)</pre><b>In a Jupyter environment, please rerun this cell to show the HTML representation or trust the notebook. <br />On GitHub, the HTML representation is unable to render, please try loading this page with nbviewer.org.</b></div><div class=\"sk-container\" hidden><div class=\"sk-item\"><div class=\"sk-estimator sk-toggleable\"><input class=\"sk-toggleable__control sk-hidden--visually\" id=\"sk-estimator-id-1\" type=\"checkbox\" checked><label for=\"sk-estimator-id-1\" class=\"sk-toggleable__label sk-toggleable__label-arrow\">Ridge</label><div class=\"sk-toggleable__content\"><pre>Ridge(alpha=1)</pre></div></div></div></div></div>"
      ],
      "text/plain": [
       "Ridge(alpha=1)"
      ]
     },
     "execution_count": 13,
     "metadata": {},
     "output_type": "execute_result"
    }
   ],
   "source": [
    "# Train the model\n",
    "ridge.fit(X_train, y_train)"
   ]
  },
  {
   "cell_type": "code",
   "execution_count": 14,
   "id": "5a5f96a3",
   "metadata": {},
   "outputs": [],
   "source": [
    "# Extract the model intercept value\n",
    "b0 = float(ridge.intercept_)"
   ]
  },
  {
   "cell_type": "code",
   "execution_count": 15,
   "id": "a25ff1bb",
   "metadata": {},
   "outputs": [],
   "source": [
    "# Extract the model coefficient value\n",
    "coeff = pd.DataFrame(ridge.coef_, X.columns, columns=['Coefficient'])"
   ]
  },
  {
   "cell_type": "code",
   "execution_count": 16,
   "id": "1c274427",
   "metadata": {},
   "outputs": [
    {
     "name": "stdout",
     "output_type": "stream",
     "text": [
      "Intercept: 0.48551562982160856\n"
     ]
    }
   ],
   "source": [
    "print(\"Intercept:\", float(b0))"
   ]
  },
  {
   "cell_type": "code",
   "execution_count": 17,
   "id": "cc6d2fcb",
   "metadata": {},
   "outputs": [
    {
     "data": {
      "text/html": [
       "<div>\n",
       "<style scoped>\n",
       "    .dataframe tbody tr th:only-of-type {\n",
       "        vertical-align: middle;\n",
       "    }\n",
       "\n",
       "    .dataframe tbody tr th {\n",
       "        vertical-align: top;\n",
       "    }\n",
       "\n",
       "    .dataframe thead th {\n",
       "        text-align: right;\n",
       "    }\n",
       "</style>\n",
       "<table border=\"1\" class=\"dataframe\">\n",
       "  <thead>\n",
       "    <tr style=\"text-align: right;\">\n",
       "      <th></th>\n",
       "      <th>Coefficient</th>\n",
       "    </tr>\n",
       "  </thead>\n",
       "  <tbody>\n",
       "    <tr>\n",
       "      <th>WaterQualityIndex</th>\n",
       "      <td>0.009681</td>\n",
       "    </tr>\n",
       "    <tr>\n",
       "      <th>ClimateChangeImpactScore</th>\n",
       "      <td>-0.000365</td>\n",
       "    </tr>\n",
       "    <tr>\n",
       "      <th>LandUseChange</th>\n",
       "      <td>0.011715</td>\n",
       "    </tr>\n",
       "    <tr>\n",
       "      <th>InvasiveSpeciesCount</th>\n",
       "      <td>0.008897</td>\n",
       "    </tr>\n",
       "    <tr>\n",
       "      <th>ConservationFunding</th>\n",
       "      <td>-0.023504</td>\n",
       "    </tr>\n",
       "    <tr>\n",
       "      <th>EcoTourismImpact</th>\n",
       "      <td>-0.032368</td>\n",
       "    </tr>\n",
       "    <tr>\n",
       "      <th>ForestCoverChange</th>\n",
       "      <td>-0.019297</td>\n",
       "    </tr>\n",
       "    <tr>\n",
       "      <th>SoilQualityIndex</th>\n",
       "      <td>0.005895</td>\n",
       "    </tr>\n",
       "    <tr>\n",
       "      <th>WaterUsage</th>\n",
       "      <td>0.001308</td>\n",
       "    </tr>\n",
       "    <tr>\n",
       "      <th>RenewableEnergyUsage</th>\n",
       "      <td>0.001607</td>\n",
       "    </tr>\n",
       "    <tr>\n",
       "      <th>CarbonEmissionLevels</th>\n",
       "      <td>-0.017176</td>\n",
       "    </tr>\n",
       "    <tr>\n",
       "      <th>AgriculturalIntensity</th>\n",
       "      <td>0.003612</td>\n",
       "    </tr>\n",
       "    <tr>\n",
       "      <th>HabitatConnectivity</th>\n",
       "      <td>0.002914</td>\n",
       "    </tr>\n",
       "    <tr>\n",
       "      <th>SpeciesReintroductionEfforts</th>\n",
       "      <td>0.010022</td>\n",
       "    </tr>\n",
       "    <tr>\n",
       "      <th>PollinatorDiversity</th>\n",
       "      <td>0.005788</td>\n",
       "    </tr>\n",
       "  </tbody>\n",
       "</table>\n",
       "</div>"
      ],
      "text/plain": [
       "                              Coefficient\n",
       "WaterQualityIndex                0.009681\n",
       "ClimateChangeImpactScore        -0.000365\n",
       "LandUseChange                    0.011715\n",
       "InvasiveSpeciesCount             0.008897\n",
       "ConservationFunding             -0.023504\n",
       "EcoTourismImpact                -0.032368\n",
       "ForestCoverChange               -0.019297\n",
       "SoilQualityIndex                 0.005895\n",
       "WaterUsage                       0.001308\n",
       "RenewableEnergyUsage             0.001607\n",
       "CarbonEmissionLevels            -0.017176\n",
       "AgriculturalIntensity            0.003612\n",
       "HabitatConnectivity              0.002914\n",
       "SpeciesReintroductionEfforts     0.010022\n",
       "PollinatorDiversity              0.005788"
      ]
     },
     "execution_count": 17,
     "metadata": {},
     "output_type": "execute_result"
    }
   ],
   "source": [
    "# Check out the coefficients\n",
    "coeff"
   ]
  },
  {
   "cell_type": "markdown",
   "id": "661bad04",
   "metadata": {},
   "source": [
    "### Interpretation of the intercept and coefficients\n",
    "\n",
    "Since we've standardised the features in our dataset, we're now able to directly compare the coefficients with one another. This is because all the variables are scaled to the same unit. The intercept in our model represents the expected health of biodiversity when all the features (like deforestation rate, pollution levels, conservation funding, etc.) are at their average values. The coefficients tell us how the Biodiversity Health Index is expected to change with a one-unit increase in each **scaled feature value**.\n",
    "\n",
    "Variables with smaller coefficients can be seen as having a lesser impact on biodiversity health; they've been more heavily penalised in the regularisation process, suggesting they're less crucial in predicting biodiversity health in our model."
   ]
  },
  {
   "cell_type": "markdown",
   "id": "42dba616",
   "metadata": {},
   "source": [
    "## Assess the predictive accuracy of the model\n",
    "\n",
    "To evaluate how well our model predicts biodiversity health, we can use tools from the `sklearn.metrics` library. To see the effectiveness of regularisation, we'll also compare our results to a basic linear model that doesn't use regularisation. This comparison will help us understand the benefits of applying regularisation to our environmental conservation dataset."
   ]
  },
  {
   "cell_type": "code",
   "execution_count": 18,
   "id": "2e666164",
   "metadata": {},
   "outputs": [
    {
     "data": {
      "text/html": [
       "<style>#sk-container-id-2 {color: black;background-color: white;}#sk-container-id-2 pre{padding: 0;}#sk-container-id-2 div.sk-toggleable {background-color: white;}#sk-container-id-2 label.sk-toggleable__label {cursor: pointer;display: block;width: 100%;margin-bottom: 0;padding: 0.3em;box-sizing: border-box;text-align: center;}#sk-container-id-2 label.sk-toggleable__label-arrow:before {content: \"▸\";float: left;margin-right: 0.25em;color: #696969;}#sk-container-id-2 label.sk-toggleable__label-arrow:hover:before {color: black;}#sk-container-id-2 div.sk-estimator:hover label.sk-toggleable__label-arrow:before {color: black;}#sk-container-id-2 div.sk-toggleable__content {max-height: 0;max-width: 0;overflow: hidden;text-align: left;background-color: #f0f8ff;}#sk-container-id-2 div.sk-toggleable__content pre {margin: 0.2em;color: black;border-radius: 0.25em;background-color: #f0f8ff;}#sk-container-id-2 input.sk-toggleable__control:checked~div.sk-toggleable__content {max-height: 200px;max-width: 100%;overflow: auto;}#sk-container-id-2 input.sk-toggleable__control:checked~label.sk-toggleable__label-arrow:before {content: \"▾\";}#sk-container-id-2 div.sk-estimator input.sk-toggleable__control:checked~label.sk-toggleable__label {background-color: #d4ebff;}#sk-container-id-2 div.sk-label input.sk-toggleable__control:checked~label.sk-toggleable__label {background-color: #d4ebff;}#sk-container-id-2 input.sk-hidden--visually {border: 0;clip: rect(1px 1px 1px 1px);clip: rect(1px, 1px, 1px, 1px);height: 1px;margin: -1px;overflow: hidden;padding: 0;position: absolute;width: 1px;}#sk-container-id-2 div.sk-estimator {font-family: monospace;background-color: #f0f8ff;border: 1px dotted black;border-radius: 0.25em;box-sizing: border-box;margin-bottom: 0.5em;}#sk-container-id-2 div.sk-estimator:hover {background-color: #d4ebff;}#sk-container-id-2 div.sk-parallel-item::after {content: \"\";width: 100%;border-bottom: 1px solid gray;flex-grow: 1;}#sk-container-id-2 div.sk-label:hover label.sk-toggleable__label {background-color: #d4ebff;}#sk-container-id-2 div.sk-serial::before {content: \"\";position: absolute;border-left: 1px solid gray;box-sizing: border-box;top: 0;bottom: 0;left: 50%;z-index: 0;}#sk-container-id-2 div.sk-serial {display: flex;flex-direction: column;align-items: center;background-color: white;padding-right: 0.2em;padding-left: 0.2em;position: relative;}#sk-container-id-2 div.sk-item {position: relative;z-index: 1;}#sk-container-id-2 div.sk-parallel {display: flex;align-items: stretch;justify-content: center;background-color: white;position: relative;}#sk-container-id-2 div.sk-item::before, #sk-container-id-2 div.sk-parallel-item::before {content: \"\";position: absolute;border-left: 1px solid gray;box-sizing: border-box;top: 0;bottom: 0;left: 50%;z-index: -1;}#sk-container-id-2 div.sk-parallel-item {display: flex;flex-direction: column;z-index: 1;position: relative;background-color: white;}#sk-container-id-2 div.sk-parallel-item:first-child::after {align-self: flex-end;width: 50%;}#sk-container-id-2 div.sk-parallel-item:last-child::after {align-self: flex-start;width: 50%;}#sk-container-id-2 div.sk-parallel-item:only-child::after {width: 0;}#sk-container-id-2 div.sk-dashed-wrapped {border: 1px dashed gray;margin: 0 0.4em 0.5em 0.4em;box-sizing: border-box;padding-bottom: 0.4em;background-color: white;}#sk-container-id-2 div.sk-label label {font-family: monospace;font-weight: bold;display: inline-block;line-height: 1.2em;}#sk-container-id-2 div.sk-label-container {text-align: center;}#sk-container-id-2 div.sk-container {/* jupyter's `normalize.less` sets `[hidden] { display: none; }` but bootstrap.min.css set `[hidden] { display: none !important; }` so we also need the `!important` here to be able to override the default hidden behavior on the sphinx rendered scikit-learn.org. See: https://github.com/scikit-learn/scikit-learn/issues/21755 */display: inline-block !important;position: relative;}#sk-container-id-2 div.sk-text-repr-fallback {display: none;}</style><div id=\"sk-container-id-2\" class=\"sk-top-container\"><div class=\"sk-text-repr-fallback\"><pre>LinearRegression()</pre><b>In a Jupyter environment, please rerun this cell to show the HTML representation or trust the notebook. <br />On GitHub, the HTML representation is unable to render, please try loading this page with nbviewer.org.</b></div><div class=\"sk-container\" hidden><div class=\"sk-item\"><div class=\"sk-estimator sk-toggleable\"><input class=\"sk-toggleable__control sk-hidden--visually\" id=\"sk-estimator-id-2\" type=\"checkbox\" checked><label for=\"sk-estimator-id-2\" class=\"sk-toggleable__label sk-toggleable__label-arrow\">LinearRegression</label><div class=\"sk-toggleable__content\"><pre>LinearRegression()</pre></div></div></div></div></div>"
      ],
      "text/plain": [
       "LinearRegression()"
      ]
     },
     "execution_count": 18,
     "metadata": {},
     "output_type": "execute_result"
    }
   ],
   "source": [
    "# Fit a basic linear model\n",
    "from sklearn.linear_model import LinearRegression\n",
    "\n",
    "# Create model object\n",
    "lm = LinearRegression()\n",
    "\n",
    "# Train model\n",
    "lm.fit(X_train, y_train)"
   ]
  },
  {
   "cell_type": "code",
   "execution_count": 19,
   "id": "fd96101a",
   "metadata": {},
   "outputs": [],
   "source": [
    "# Import metrics module\n",
    "from sklearn import metrics"
   ]
  },
  {
   "cell_type": "code",
   "execution_count": 20,
   "id": "2588f7d1",
   "metadata": {},
   "outputs": [
    {
     "name": "stdout",
     "output_type": "stream",
     "text": [
      "Training MSE\n",
      "Linear: 0.08280249552491657\n",
      "Ridge : 0.08280249989959568\n"
     ]
    }
   ],
   "source": [
    "# Check training accuracy\n",
    "train_lm = lm.predict(X_train)\n",
    "train_ridge = ridge.predict(X_train)\n",
    "\n",
    "print('Training MSE')\n",
    "print('Linear:', metrics.mean_squared_error(y_train, train_lm))\n",
    "print('Ridge :', metrics.mean_squared_error(y_train, train_ridge))"
   ]
  },
  {
   "cell_type": "code",
   "execution_count": 21,
   "id": "36d2bcc4",
   "metadata": {},
   "outputs": [
    {
     "name": "stdout",
     "output_type": "stream",
     "text": [
      "Testing MSE\n",
      "Linear: 0.07773530942181381\n",
      "Ridge : 0.07772225476878025\n"
     ]
    }
   ],
   "source": [
    "test_lm = lm.predict(X_test)\n",
    "test_ridge = ridge.predict(X_test)\n",
    "\n",
    "print('Testing MSE')\n",
    "print('Linear:', metrics.mean_squared_error(y_test, test_lm))\n",
    "print('Ridge :', metrics.mean_squared_error(y_test, test_ridge))"
   ]
  },
  {
   "cell_type": "markdown",
   "id": "62341cd8",
   "metadata": {
    "vscode": {
     "languageId": "plaintext"
    }
   },
   "source": [
    "The increase in training MSE is not anything to be worried about since we want to avoid overfitting on the training set. However, the MSE values need to be contextualised to understand the model's performance better. The magnitude of the MSE can be influenced by the scale of the data and the choice of the predictive variable. Thus, it is crucial to consider these factors when assessing the model's accuracy.\n",
    "\n",
    "As a final step, let's plot our results."
   ]
  },
  {
   "cell_type": "code",
   "execution_count": null,
   "id": "a21a936b",
   "metadata": {},
   "outputs": [],
   "source": [
    "# Predictions\n",
    "y_pred_train = ridge.predict(X_standardised.iloc[:len(y_train)])\n",
    "y_pred_test = ridge.predict(X_standardised.iloc[len(y_train):])\n",
    "\n",
    "plt.figure(figsize=(14, 7))  # Plot size\n",
    "\n",
    "# Plot training predictions and actual values\n",
    "plt.scatter(np.arange(len(y_train)), y_pred_train, label='Predicted Training', alpha=0.5)\n",
    "plt.plot(np.arange(len(y_train)), y_train, label='Actual Training', linestyle='--', linewidth=1)\n",
    "\n",
    "# Plot testing predictions and actual values\n",
    "plt.scatter(np.arange(len(y_test)) + len(y_train), y_pred_test, label='Predicted Testing', alpha=0.5, color='red')\n",
    "plt.plot(np.arange(len(y_test)) + len(y_train), y_test, label='Actual Testing', linestyle='--', linewidth=1, color='blue')\n",
    "\n",
    "plt.legend()\n",
    "plt.title('Model Predictions vs Actual Values')\n",
    "plt.xlabel('Sample Index')\n",
    "plt.ylabel('Biodiversity Health Index')\n",
    "plt.grid(True)  # Add gridlines\n",
    "\n",
    "plt.show()\n"
   ]
  },
  {
   "cell_type": "markdown",
   "id": "5fd3d508",
   "metadata": {},
   "source": [
    "The plot indicates that the Ridge regression model predicts both the training and testing data with moderate success, showing some alignment with the actual Biodiversity Health Index values. There is a consistent scatter across the range, suggesting the model's effectiveness in handling diverse data without significant overfitting. However, it is essential to continue assessing the model's performance, especially in the context of the MSE values discussed."
   ]
  },
  {
   "cell_type": "markdown",
   "id": "ffdc9924",
   "metadata": {},
   "source": [
    "## Conclusion\n",
    "\n",
    "In this train, we have seen or been introduced to:\n",
    "\n",
    "- The concept of regularisation in general and ridge regularisation in particular.\n",
    "- Implementing a linear model using ridge regularisation.\n",
    "- Comparing the accuracy of a non-regularised linear regression model with a regularised one."
   ]
  },
  {
   "cell_type": "markdown",
   "metadata": {},
   "source": [
    "## Appendix\n",
    "\n",
    "Links to additional resources to help with the understanding of concepts presented in the train.\n",
    "\n",
    "- [Video on ridge regression by the authors of ISLR](https://www.youtube.com/watch?v=cSKzqb0EKS0)"
   ]
  },
  {
   "cell_type": "markdown",
   "id": "26fd094b-0fee-46f1-a4b8-73766813c42b",
   "metadata": {
    "tags": []
   },
   "source": [
    "#  \n",
    "\n",
    "<div align=\"center\" style=\" font-size: 80%; text-align: center; margin: 0 auto\">\n",
    "<img src=\"https://raw.githubusercontent.com/Explore-AI/Pictures/master/ExploreAI_logos/EAI_Blue_Dark.png\"  style=\"width:200px\";/>\n",
    "</div>"
   ]
  }
 ],
 "metadata": {
  "kernelspec": {
   "display_name": "Python 3 (ipykernel)",
   "language": "python",
   "name": "python3"
  },
  "language_info": {
   "codemirror_mode": {
    "name": "ipython",
    "version": 3
   },
   "file_extension": ".py",
   "mimetype": "text/x-python",
   "name": "python",
   "nbconvert_exporter": "python",
   "pygments_lexer": "ipython3",
   "version": "3.10.4"
  }
 },
 "nbformat": 4,
 "nbformat_minor": 5
}
